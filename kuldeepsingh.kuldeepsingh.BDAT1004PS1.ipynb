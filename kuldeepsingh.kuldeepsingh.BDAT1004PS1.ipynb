{
 "cells": [
  {
   "cell_type": "markdown",
   "id": "bed7a0d2",
   "metadata": {},
   "source": [
    "# 1. Please change the kernel before running any code. My csharp and python code on this page serial wise.\n",
    "\n",
    "5= int\n",
    "5.0 = double\n",
    "5>1=boolean\n",
    "'5'=char\n",
    "5*2=int\n",
    "'5'+'2'=int\n",
    "5/2=int\n",
    "5%2=int\n",
    "{5,2,1}=int\n",
    " 5==3=boolean\n",
    "Pi (The number 3.14)=double\n",
    "\n"
   ]
  },
  {
   "cell_type": "markdown",
   "id": "971cd9d0",
   "metadata": {},
   "source": [
    "# 2. (a,b,c,d) are down"
   ]
  },
  {
   "cell_type": "code",
   "execution_count": 9,
   "id": "8bc34242",
   "metadata": {},
   "outputs": [
    {
     "name": "stdout",
     "output_type": "stream",
     "text": [
      "The total Length of the String is 34\r\n"
     ]
    }
   ],
   "source": [
    "string s=\"Supercalifragilisticexpialidocious\";\n",
    "Console.WriteLine(\"The total Length of the String is \"+s.Length);"
   ]
  },
  {
   "cell_type": "code",
   "execution_count": 12,
   "id": "0f68fe11",
   "metadata": {},
   "outputs": [
    {
     "name": "stdout",
     "output_type": "stream",
     "text": [
      "Does the string contain ice as sub string ?  :True\r\n"
     ]
    }
   ],
   "source": [
    "string s=\"Supercalifragilisticexpialidocious\";\n",
    "Console.WriteLine(\"Does the string contain ice as sub string ?  :\"+s.Contains(\"ice\"));"
   ]
  },
  {
   "cell_type": "code",
   "execution_count": 13,
   "id": "5cf66642",
   "metadata": {},
   "outputs": [
    {
     "name": "stdout",
     "output_type": "stream",
     "text": [
      "The third String has the Longest Length\r\n"
     ]
    }
   ],
   "source": [
    "string s1=\"Supercalifragilisticexpialidocious\";\n",
    "string s2=\"Honorificabilitudinitatibus\";\n",
    "string s3=\"Bababadalgharaghtakamminarronnkonn\";\n",
    "if(s1.Length>s2.Length)\n",
    "{\n",
    "  if(s1.Length>s3.Length)\n",
    "  {\n",
    "  Console.WriteLine(\"The first String has the longest Length\");\n",
    "  }\n",
    "  else{\n",
    "  Console.WriteLine(\"The third String has the Longest Length\");\n",
    "  }\n",
    "}\n",
    "else{\n",
    "    if(s2.Length>s3.Length){\n",
    "    Console.WriteLine(\"The Second String has the Longest Length\");\n",
    "    }else{\n",
    "    Console.WriteLine(\"The third string has the Longest\");\n",
    "    }\n",
    "}"
   ]
  },
  {
   "cell_type": "code",
   "execution_count": 3,
   "id": "262016cf",
   "metadata": {},
   "outputs": [
    {
     "name": "stdout",
     "output_type": "stream",
     "text": [
      "Bartok\n",
      "Bellini\n",
      "Berlioz\n",
      "Bernstein\n",
      "Borodin\n",
      "Brian\n",
      "Buxtehude\n",
      "First word in Dictionary Bartok\n",
      "Last word in Dictionary Buxtehude\n"
     ]
    }
   ],
   "source": [
    "var composer= new SortedSet<string>();\n",
    "    composer.Add(\"Berlioz\");\n",
    "    composer.Add(\"Borodin\");\n",
    "    composer.Add(\"Brian\");\n",
    "    composer.Add(\"Bartok\");\n",
    "    composer.Add(\"Bellini\");\n",
    "    composer.Add(\"Buxtehude\");\n",
    "    composer.Add(\"Bernstein\");\n",
    "    foreach( var name in composer)\n",
    "    {\n",
    "    Console.WriteLine(name);\n",
    "    }\n",
    "    Console.WriteLine(\"First word in Dictionary \"+composer.First());\n",
    "    Console.WriteLine(\"Last word in Dictionary \"+composer.Last());"
   ]
  },
  {
   "cell_type": "markdown",
   "id": "6ee3e08b",
   "metadata": {},
   "source": [
    "# 3. Area of triangle in csharp. "
   ]
  },
  {
   "cell_type": "code",
   "execution_count": 24,
   "id": "a0d69d3f",
   "metadata": {
    "scrolled": true
   },
   "outputs": [],
   "source": [
    "//string s1=Console.ReadLine();\n",
    "//This ReadLine is not working here..\n",
    "\n",
    "double length=2;\n",
    "double width=2;\n",
    "double height=2;\n",
    "double s=(length+width+height)/2.0;\n",
    "double sol=Math.Sqrt(s*(s-length)*(s-width)*(s-height));\n",
    "Console.WriteLine(\"The final answer is \"+sol);"
   ]
  },
  {
   "cell_type": "markdown",
   "id": "1e84ed30",
   "metadata": {},
   "source": [
    "# 4."
   ]
  },
  {
   "cell_type": "code",
   "execution_count": 39,
   "id": "44d8c4a6",
   "metadata": {
    "scrolled": true
   },
   "outputs": [
    {
     "name": "stdout",
     "output_type": "stream",
     "text": [
      "Odd No.s are 25\n",
      "Odd No.s are 47\n",
      "Even no.s are 42\n",
      "Even no.s are 56\n",
      "Even no.s are 32\n"
     ]
    }
   ],
   "source": [
    "int[] arr=new int[5];\n",
    "arr[0]=25;\n",
    "arr[1]=47;\n",
    "arr[2]=42;\n",
    "arr[3]=56;\n",
    "arr[4]=32;\n",
    "for(int i=0;i<5;i++){\n",
    "if(arr[i]%2==1){\n",
    "Console.WriteLine(\"Odd No.s are \"+arr[i]);\n",
    "}\n",
    "else{\n",
    "Console.WriteLine(\"Even no.s are \"+arr[i]);\n",
    "}\n",
    "}\n"
   ]
  },
  {
   "cell_type": "markdown",
   "id": "218758d5",
   "metadata": {},
   "source": [
    "# 5 A"
   ]
  },
  {
   "cell_type": "code",
   "execution_count": 61,
   "id": "97fb98ab",
   "metadata": {},
   "outputs": [
    {
     "name": "stdout",
     "output_type": "stream",
     "text": [
      "True\r\n"
     ]
    }
   ],
   "source": [
    "public int x1=0, y1=0, x2=2, y2=3;\n",
    "public int x=1, y=1;\n",
    "\n",
    "static bool inside(int x,int y,int x1,int x2,int y1,int y2){\n",
    "if(x > x1 && x < x2 && y > y1 && y < y2)\n",
    "{\n",
    "return true;\n",
    "}else{\n",
    "return false;\n",
    "}\n",
    "}\n",
    "\n",
    "if(inside(x,y,x1,y1,x2,y2))\n",
    "{\n",
    "Console.WriteLine(\"False\");\n",
    "}else{\n",
    "Console.WriteLine(\"True\");\n",
    "}"
   ]
  },
  {
   "cell_type": "markdown",
   "id": "c6e414d1",
   "metadata": {},
   "source": [
    "# 5 B"
   ]
  },
  {
   "cell_type": "code",
   "execution_count": 64,
   "id": "ee63ef79",
   "metadata": {},
   "outputs": [
    {
     "name": "stdout",
     "output_type": "stream",
     "text": [
      "True\r\n"
     ]
    }
   ],
   "source": [
    "double x1=0.3, y1=0.5, x2=1.1, y2=0.7;\n",
    "double x=1, y=1;\n",
    "\n",
    "static bool inside(double x,double y,double x1,double x2,double y1,double y2){\n",
    "if(x>x1 && x<x2 && y>y1 && y<y2)\n",
    "{\n",
    "return true;\n",
    "}else{\n",
    "return false;\n",
    "}\n",
    "}\n",
    "\n",
    "if(inside(x,y,x1,y1,x2,y2))\n",
    "{\n",
    "Console.WriteLine(\"False\");\n",
    "}else{\n",
    "Console.WriteLine(\"True\");\n",
    "}"
   ]
  },
  {
   "cell_type": "code",
   "execution_count": 65,
   "id": "180b5ca1",
   "metadata": {},
   "outputs": [
    {
     "name": "stdout",
     "output_type": "stream",
     "text": [
      "True\r\n"
     ]
    }
   ],
   "source": [
    "double x1=0.5, y1=0.2, x2=1.1, y2=2;\n",
    "double x=1, y=1;\n",
    "\n",
    "static bool inside(double x,double y,double x1,double x2,double y1,double y2){\n",
    "if(x>x1 && x<x2 && y>y1 && y<y2)\n",
    "{\n",
    "return true;\n",
    "}else{\n",
    "return false;\n",
    "}\n",
    "}\n",
    "\n",
    "if(inside(x,y,x1,y1,x2,y2))\n",
    "{\n",
    "Console.WriteLine(\"False\");\n",
    "}else{\n",
    "Console.WriteLine(\"True\");\n",
    "}"
   ]
  },
  {
   "cell_type": "markdown",
   "id": "4458ce03",
   "metadata": {},
   "source": [
    "# Python code starts here. Please change the kernel if needed\n",
    "Question 6\n"
   ]
  },
  {
   "cell_type": "code",
   "execution_count": 74,
   "id": "911eff15",
   "metadata": {},
   "outputs": [
    {
     "name": "stdout",
     "output_type": "stream",
     "text": [
      "Enter a Word : happy\n",
      "appyhay\n"
     ]
    }
   ],
   "source": [
    "word=input(\"Enter a Word : \")\n",
    "if word[0]=='a' or word[0]=='e'or word[0]=='i'or word[0]=='o' or word[0]=='u' or word[0]=='A' or word[0]=='E'or word[0]=='I' or word[0]=='O' or word[0]=='U':\n",
    "    print (word+'way')\n",
    "else:\n",
    "    w=word[1:]\n",
    "    print(w+word[0]+'ay')\n",
    "        \n",
    "        "
   ]
  },
  {
   "cell_type": "markdown",
   "id": "49d71116",
   "metadata": {},
   "source": [
    "# Ques 7"
   ]
  },
  {
   "cell_type": "code",
   "execution_count": null,
   "id": "a5846eeb",
   "metadata": {},
   "outputs": [],
   "source": [
    "file = open(\"bloodtype1.txt\",\"r\")\n",
    "A=0\n",
    "B=0\n",
    "AB=0\n",
    "O=0\n",
    "OO=0\n",
    "\n",
    "for item in file:\n",
    "    groups = item.split(' ')\n",
    "    for value in groups:\n",
    "        if(value == \"A\"):\n",
    "            A=A+1\n",
    "        elif(value == \"B\"):\n",
    "            B=B+1\n",
    "        elif(value == \"AB\"):\n",
    "            AB=AB+1\n",
    "        elif(value == \"O\"):\n",
    "            O=O+1\n",
    "        elif(value == \"OO\"):\n",
    "            OO=OO+1\n",
    "        else:\n",
    "            pass\n",
    "print(\"There are {} patients of Blood group A\".format(A))\n",
    "print(\"There is {} patients of Blood group B\".format(B))\n",
    "print(\"There are {} patients of Blood group AB\".format(AB))\n",
    "print(\"There are {} patients of Blood group O\".format(O))\n",
    "print(\"There are {} patients of Blood group OO\".format(OO))\n",
    "\n"
   ]
  },
  {
   "cell_type": "markdown",
   "id": "da09eafd",
   "metadata": {},
   "source": [
    "# Ques 8"
   ]
  },
  {
   "cell_type": "code",
   "execution_count": 24,
   "id": "898bbf97",
   "metadata": {},
   "outputs": [
    {
     "name": "stdout",
     "output_type": "stream",
     "text": [
      "Enter the Currency name :EUR\n",
      "122.96544\n"
     ]
    }
   ],
   "source": [
    "\n",
    "file= open(\"currencies.txt\",\"r\")\n",
    "word=input(\"Enter the Currency name :\")\n",
    "for item in file:\n",
    "    groups = item.split('\\t')# CHecked print(groups) first...\n",
    "    if(word==groups[0]):\n",
    "        convert=float(groups[1])*100\n",
    "        print(convert)\n",
    "        "
   ]
  },
  {
   "cell_type": "markdown",
   "id": "094e042a",
   "metadata": {},
   "source": [
    "# Ques 9"
   ]
  },
  {
   "cell_type": "code",
   "execution_count": null,
   "id": "48d6faa5",
   "metadata": {},
   "outputs": [],
   "source": [
    "print (6+'a')"
   ]
  },
  {
   "cell_type": "code",
   "execution_count": null,
   "id": "e7f0d51a",
   "metadata": {},
   "outputs": [],
   "source": [
    "lst=[1,2,3,4,5,6,7,8,9,0]\n",
    "print(lst[11])"
   ]
  },
  {
   "cell_type": "code",
   "execution_count": null,
   "id": "005a2b86",
   "metadata": {},
   "outputs": [],
   "source": [
    "import math\n",
    "print(math.sqrt(-1.0))\n"
   ]
  },
  {
   "cell_type": "code",
   "execution_count": 79,
   "id": "3930772d",
   "metadata": {},
   "outputs": [
    {
     "ename": "NameError",
     "evalue": "name 'x' is not defined",
     "output_type": "error",
     "traceback": [
      "\u001b[1;31m---------------------------------------------------------------------------\u001b[0m",
      "\u001b[1;31mNameError\u001b[0m                                 Traceback (most recent call last)",
      "Input \u001b[1;32mIn [79]\u001b[0m, in \u001b[0;36m<cell line: 1>\u001b[1;34m()\u001b[0m\n\u001b[1;32m----> 1\u001b[0m \u001b[38;5;28mprint\u001b[39m(\u001b[43mx\u001b[49m)\n",
      "\u001b[1;31mNameError\u001b[0m: name 'x' is not defined"
     ]
    }
   ],
   "source": [
    "print(x)"
   ]
  },
  {
   "cell_type": "code",
   "execution_count": 91,
   "id": "ff4cdf27",
   "metadata": {},
   "outputs": [
    {
     "ename": "FileNotFoundError",
     "evalue": "[Errno 2] No such file or directory: 'C:\\\\Users\\\\ghost\\\\Desktop\\\\new.txt'",
     "output_type": "error",
     "traceback": [
      "\u001b[1;31m---------------------------------------------------------------------------\u001b[0m",
      "\u001b[1;31mFileNotFoundError\u001b[0m                         Traceback (most recent call last)",
      "Input \u001b[1;32mIn [91]\u001b[0m, in \u001b[0;36m<cell line: 1>\u001b[1;34m()\u001b[0m\n\u001b[1;32m----> 1\u001b[0m file\u001b[38;5;241m=\u001b[39m\u001b[38;5;28;43mopen\u001b[39;49m\u001b[43m(\u001b[49m\u001b[38;5;124;43m\"\u001b[39;49m\u001b[38;5;124;43mC:\u001b[39;49m\u001b[38;5;130;43;01m\\\\\u001b[39;49;00m\u001b[38;5;124;43mUsers\u001b[39;49m\u001b[38;5;130;43;01m\\\\\u001b[39;49;00m\u001b[38;5;124;43mghost\u001b[39;49m\u001b[38;5;130;43;01m\\\\\u001b[39;49;00m\u001b[38;5;124;43mDesktop\u001b[39;49m\u001b[38;5;130;43;01m\\\\\u001b[39;49;00m\u001b[38;5;124;43mnew.txt\u001b[39;49m\u001b[38;5;124;43m\"\u001b[39;49m\u001b[43m,\u001b[49m\u001b[43m)\u001b[49m\n\u001b[0;32m      2\u001b[0m \u001b[38;5;28mprint\u001b[39m(file\u001b[38;5;241m.\u001b[39mread())\n",
      "\u001b[1;31mFileNotFoundError\u001b[0m: [Errno 2] No such file or directory: 'C:\\\\Users\\\\ghost\\\\Desktop\\\\new.txt'"
     ]
    }
   ],
   "source": [
    "file=open(\"C:\\\\Users\\\\ghost\\\\Desktop\\\\new.txt\",)\n",
    "print(file.read())"
   ]
  },
  {
   "cell_type": "markdown",
   "id": "3508531e",
   "metadata": {},
   "source": [
    "# Ques 10"
   ]
  },
  {
   "cell_type": "code",
   "execution_count": 39,
   "id": "b61dd59a",
   "metadata": {},
   "outputs": [
    {
     "name": "stdout",
     "output_type": "stream",
     "text": [
      "['The quick red fox got bored and went home.']\n",
      "1\n",
      "1\n",
      "1\n",
      "3\n",
      "5\n",
      "1\n",
      "1\n",
      "2\n",
      "1\n",
      "0\n",
      "1\n",
      "0\n",
      "1\n",
      "2\n",
      "4\n",
      "0\n",
      "1\n",
      "2\n",
      "0\n",
      "2\n",
      "1\n",
      "0\n",
      "1\n",
      "1\n",
      "0\n",
      "0\n"
     ]
    }
   ],
   "source": [
    "ab=\"abcdefghilklmnopqrstuvwxyz\"\n",
    "s='The quick red fox got bored and went home.'\n",
    "r=s.split(\"\\t\")\n",
    "print (r)\n",
    "for i in ab:\n",
    "    print(s.count(i))\n",
    "\n"
   ]
  },
  {
   "cell_type": "code",
   "execution_count": null,
   "id": "2582bc35",
   "metadata": {},
   "outputs": [],
   "source": []
  }
 ],
 "metadata": {
  "kernelspec": {
   "display_name": "Python 3 (ipykernel)",
   "language": "python",
   "name": "python3"
  },
  "language_info": {
   "codemirror_mode": {
    "name": "ipython",
    "version": 3
   },
   "file_extension": ".py",
   "mimetype": "text/x-python",
   "name": "python",
   "nbconvert_exporter": "python",
   "pygments_lexer": "ipython3",
   "version": "3.9.12"
  }
 },
 "nbformat": 4,
 "nbformat_minor": 5
}
